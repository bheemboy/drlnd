{
 "cells": [
  {
   "cell_type": "markdown",
   "metadata": {},
   "source": [
    "# Navigation\n",
    "\n",
    "---\n",
    "\n",
    "You are welcome to use this coding environment to train your agent for the project.  Follow the instructions below to get started!\n",
    "\n",
    "### 1. Start the Environment\n",
    "\n",
    "Run the next code cell to install a few packages.  This line will take a few minutes to run!"
   ]
  },
  {
   "cell_type": "code",
   "execution_count": 2,
   "metadata": {},
   "outputs": [
    {
     "name": "stdout",
     "output_type": "stream",
     "text": [
      "\u001b[31mtensorflow 1.7.1 has requirement numpy>=1.13.3, but you'll have numpy 1.12.1 which is incompatible.\u001b[0m\r\n",
      "\u001b[31mipython 6.5.0 has requirement prompt-toolkit<2.0.0,>=1.0.15, but you'll have prompt-toolkit 2.0.10 which is incompatible.\u001b[0m\r\n"
     ]
    }
   ],
   "source": [
    "!pip -q install ./python"
   ]
  },
  {
   "cell_type": "markdown",
   "metadata": {},
   "source": [
    "The environment is already saved in the Workspace and can be accessed at the file path provided below.  Please run the next code cell without making any changes."
   ]
  },
  {
   "cell_type": "code",
   "execution_count": 3,
   "metadata": {},
   "outputs": [
    {
     "name": "stderr",
     "output_type": "stream",
     "text": [
      "INFO:unityagents:\n",
      "'Academy' started successfully!\n",
      "Unity Academy name: Academy\n",
      "        Number of Brains: 1\n",
      "        Number of External Brains : 1\n",
      "        Lesson number : 0\n",
      "        Reset Parameters :\n",
      "\t\t\n",
      "Unity brain name: BananaBrain\n",
      "        Number of Visual Observations (per agent): 0\n",
      "        Vector Observation space type: continuous\n",
      "        Vector Observation space size (per agent): 37\n",
      "        Number of stacked Vector Observation: 1\n",
      "        Vector Action space type: discrete\n",
      "        Vector Action space size (per agent): 4\n",
      "        Vector Action descriptions: , , , \n"
     ]
    }
   ],
   "source": [
    "import torch\n",
    "import numpy as np\n",
    "import matplotlib.pyplot as plt\n",
    "%matplotlib inline\n",
    "\n",
    "from params import VarParam, DQNParameters\n",
    "from agent import Agent\n",
    "from unityagents import UnityEnvironment\n",
    "from collections import deque\n",
    "\n",
    "\n",
    "# please do not modify the line below\n",
    "env = UnityEnvironment(file_name=\"/data/Banana_Linux_NoVis/Banana.x86_64\")"
   ]
  },
  {
   "cell_type": "markdown",
   "metadata": {},
   "source": [
    "Environments contain **_brains_** which are responsible for deciding the actions of their associated agents. Here we check for the first brain available, and set it as the default brain we will be controlling from Python."
   ]
  },
  {
   "cell_type": "code",
   "execution_count": 4,
   "metadata": {},
   "outputs": [],
   "source": [
    "# get the default brain\n",
    "brain_name = env.brain_names[0]\n",
    "brain = env.brains[brain_name]"
   ]
  },
  {
   "cell_type": "markdown",
   "metadata": {},
   "source": [
    "### 2. Examine the State and Action Spaces\n",
    "\n",
    "Run the code cell below to print some information about the environment."
   ]
  },
  {
   "cell_type": "code",
   "execution_count": 5,
   "metadata": {},
   "outputs": [
    {
     "name": "stdout",
     "output_type": "stream",
     "text": [
      "Number of agents: 1\n",
      "Number of actions: 4\n",
      "States look like: [ 1.          0.          0.          0.          0.84408134  0.          0.\n",
      "  1.          0.          0.0748472   0.          1.          0.          0.\n",
      "  0.25755     1.          0.          0.          0.          0.74177343\n",
      "  0.          1.          0.          0.          0.25854847  0.          0.\n",
      "  1.          0.          0.09355672  0.          1.          0.          0.\n",
      "  0.31969345  0.          0.        ]\n",
      "States have length: 37\n"
     ]
    }
   ],
   "source": [
    "# reset the environment\n",
    "env_info = env.reset(train_mode=True)[brain_name]\n",
    "\n",
    "# number of agents in the environment\n",
    "print('Number of agents:', len(env_info.agents))\n",
    "\n",
    "# number of actions\n",
    "action_size = brain.vector_action_space_size\n",
    "print('Number of actions:', action_size)\n",
    "\n",
    "# examine the state space \n",
    "state = env_info.vector_observations[0]\n",
    "print('States look like:', state)\n",
    "state_size = len(state)\n",
    "print('States have length:', state_size)"
   ]
  },
  {
   "cell_type": "markdown",
   "metadata": {},
   "source": [
    "### 3. Take Random Actions in the Environment\n",
    "\n",
    "In the next code cell, you will learn how to use the Python API to control the agent and receive feedback from the environment.\n",
    "\n",
    "Note that **in this coding environment, you will not be able to watch the agent while it is training**, and you should set `train_mode=True` to restart the environment."
   ]
  },
  {
   "cell_type": "code",
   "execution_count": 6,
   "metadata": {},
   "outputs": [
    {
     "name": "stdout",
     "output_type": "stream",
     "text": [
      "Score: 0.0\n"
     ]
    }
   ],
   "source": [
    "env_info = env.reset(train_mode=True)[brain_name] # reset the environment\n",
    "state = env_info.vector_observations[0]            # get the current state\n",
    "score = 0                                          # initialize the score\n",
    "for i in range(100):\n",
    "    action = np.random.randint(action_size)        # select an action\n",
    "    env_info = env.step(action)[brain_name]        # send the action to the environment\n",
    "    next_state = env_info.vector_observations[0]   # get the next state\n",
    "    reward = env_info.rewards[0]                   # get the reward\n",
    "    done = env_info.local_done[0]                  # see if episode has finished\n",
    "    score += reward                                # update the score\n",
    "    state = next_state                             # roll over the state to next time step\n",
    "    if done:                                       # exit loop if episode finished\n",
    "        break\n",
    "    \n",
    "print(\"Score: {}\".format(score))"
   ]
  },
  {
   "cell_type": "markdown",
   "metadata": {},
   "source": [
    "When finished, you can close the environment."
   ]
  },
  {
   "cell_type": "code",
   "execution_count": 7,
   "metadata": {},
   "outputs": [],
   "source": [
    "# env.close()"
   ]
  },
  {
   "cell_type": "markdown",
   "metadata": {},
   "source": [
    "### 4. It's Your Turn!\n",
    "\n",
    "Now it's your turn to train your own agent to solve the environment!  A few **important notes**:\n",
    "- When training the environment, set `train_mode=True`, so that the line for resetting the environment looks like the following:\n",
    "```python\n",
    "env_info = env.reset(train_mode=True)[brain_name]\n",
    "```\n",
    "- To structure your work, you're welcome to work directly in this Jupyter notebook, or you might like to start over with a new file!  You can see the list of files in the workspace by clicking on **_Jupyter_** in the top left corner of the notebook.\n",
    "- In this coding environment, you will not be able to watch the agent while it is training.  However, **_after training the agent_**, you can download the saved model weights to watch the agent on your own machine! "
   ]
  },
  {
   "cell_type": "markdown",
   "metadata": {},
   "source": [
    "### 5. Let us train an agent using DQN in the Banana Environment\n",
    "\n",
    "The code cell below has the function that will train the agent.\n"
   ]
  },
  {
   "cell_type": "code",
   "execution_count": 8,
   "metadata": {
    "scrolled": true
   },
   "outputs": [
    {
     "name": "stdout",
     "output_type": "stream",
     "text": [
      "Number of actions: 4\n",
      "States have length: 37\n"
     ]
    }
   ],
   "source": [
    "# get the default brain\n",
    "brain_name = env.brain_names[0]\n",
    "brain = env.brains[brain_name]\n",
    "\n",
    "# reset the environment\n",
    "env_info = env.reset(train_mode=True)[brain_name]\n",
    "\n",
    "# number of actions\n",
    "action_size = brain.vector_action_space_size\n",
    "print('Number of actions:', action_size)\n",
    "\n",
    "# examine the state space\n",
    "state = env_info.vector_observations[0]\n",
    "state_size = len(state)\n",
    "print('States have length:', state_size)\n",
    "\n",
    "params = DQNParameters(state_size=state_size, action_size=action_size)\n",
    "agent = Agent(params)\n"
   ]
  },
  {
   "cell_type": "code",
   "execution_count": null,
   "metadata": {},
   "outputs": [
    {
     "name": "stdout",
     "output_type": "stream",
     "text": [
      "Episode 100\tAverage Score: 0.5300\tlr=0.0005, epsilon=0.610, gamma=0.957, beta=0.637, tau=0.001\n",
      "Episode 200\tAverage Score: 4.1500\tlr=0.0005, epsilon=0.373, gamma=0.978, beta=0.780, tau=0.001\n",
      "Episode 300\tAverage Score: 7.4200\tlr=0.0005, epsilon=0.230, gamma=0.986, beta=0.867, tau=0.001\n",
      "Episode 400\tAverage Score: 9.8800\tlr=0.0005, epsilon=0.143, gamma=0.988, beta=0.919, tau=0.001\n",
      "Episode 500\tAverage Score: 10.6500\tlr=0.0005, epsilon=0.091, gamma=0.989, beta=0.951, tau=0.001\n",
      "Episode 600\tAverage Score: 11.7200\tlr=0.0005, epsilon=0.059, gamma=0.990, beta=0.970, tau=0.002\n",
      "Episode 700\tAverage Score: 12.2900\tlr=0.0005, epsilon=0.040, gamma=0.990, beta=0.982, tau=0.002\n",
      "Passing score achieved in 718 episodes!\tAverage Score: 13.1000amma=0.990, beta=0.984, tau=0.002\n",
      "Episode 800\tAverage Score: 14.1000\tlr=0.0005, epsilon=0.028, gamma=0.990, beta=0.989, tau=0.002\n",
      "Episode 900\tAverage Score: 13.7000\tlr=0.0005, epsilon=0.021, gamma=0.990, beta=0.993, tau=0.002\n",
      "Episode 1000\tAverage Score: 13.4700\tlr=0.0005, epsilon=0.017, gamma=0.990, beta=0.996, tau=0.002\n",
      "Episode 1100\tAverage Score: 14.5900\tlr=0.0005, epsilon=0.014, gamma=0.990, beta=0.998, tau=0.002\n",
      "Episode 1200\tAverage Score: 14.3900\tlr=0.0005, epsilon=0.012, gamma=0.990, beta=0.999, tau=0.002\n",
      "Episode 1300\tAverage Score: 15.3200\tlr=0.0005, epsilon=0.011, gamma=0.990, beta=0.999, tau=0.002\n",
      "Episode 1301\tAverage Score: 15.2600\tlr=0.0005, epsilon=0.011, gamma=0.990, beta=0.999, tau=0.002"
     ]
    }
   ],
   "source": [
    "n_episodes=2000                        # Total number of episodes to train on\n",
    "max_t=100000                           # Maximum number of actions to take within an episiode \n",
    "passing_score_achieved=False           # Achieved when average score for 100 episodes reaches 13\n",
    "scores = []                            # List of scores for an episode \n",
    "scores_window = deque(maxlen=100)      # Most recent 100 scores\n",
    "\n",
    "for i_episode in range(1, n_episodes + 1):\n",
    "    # Reset environment\n",
    "    env_info = env.reset(train_mode=True)[brain_name]\n",
    "\n",
    "    # Get next state\n",
    "    state = env_info.vector_observations[0]\n",
    "\n",
    "    score = 0\n",
    "    for t in range(max_t):\n",
    "\n",
    "        # Get action\n",
    "        action = agent.act(state, params.epsilon())\n",
    "\n",
    "        # Send action to environment\n",
    "        env_info = env.step(action)[brain_name]\n",
    "\n",
    "        # Get next state\n",
    "        next_state = env_info.vector_observations[0]\n",
    "\n",
    "        # Get reward\n",
    "        reward = env_info.rewards[0]\n",
    "\n",
    "        # Check is episode finished\n",
    "        done = env_info.local_done[0]\n",
    "\n",
    "        # run agent step - which adds to the experience and also learns based on UPDATE_EVERY\n",
    "        agent.step(state, action, reward, next_state, done, params.gamma(), params.beta(), params.tau())\n",
    "\n",
    "        score += reward\n",
    "        state = next_state\n",
    "\n",
    "        # Exit if episode finished\n",
    "        if done:\n",
    "            break\n",
    "\n",
    "    scores_window.append(score)\n",
    "    scores.append(score)\n",
    "\n",
    "    params.epsilon.decrement()   # reduce randmoness for action selection\n",
    "    params.gamma.increment()     # give more priority to future returns\n",
    "    params.tau.increment()       # make larger updates to target DQN\n",
    "    params.beta.increment()      # increase bias for weights from stored experiences\n",
    "\n",
    "    print('\\rEpisode {}\\tAverage Score: {:.4f}\\t{}'.format(i_episode, np.mean(scores_window), params), end=\"\")\n",
    "\n",
    "    if i_episode % scores_window.maxlen == 0:\n",
    "        print('\\r\\nEpisode {}\\tAverage Score: {:.4f}'.format(i_episode, np.mean(scores_window)))\n",
    "    if np.mean(scores_window) > 13 and not passing_score_achieved:\n",
    "        passing_score_achieved = True\n",
    "        print('\\rPassing score achieved in {:d} episodes!\\tAverage Score: {:.4f}'.format(i_episode, np.mean(scores_window)))\n",
    "\n",
    "if passing_score_achieved:\n",
    "    torch.save(agent.qnetwork_local.state_dict(), 'checkpoint.pth')\n",
    "else:\n",
    "    print(\"Passing score not achieved :(\")\n",
    "\n",
    "# plot the scores\n",
    "fig = plt.figure()\n",
    "ax = fig.add_subplot(111)\n",
    "plt.plot(np.arange(len(scores)), scores)\n",
    "plt.ylabel('Score')\n",
    "plt.xlabel('Episode #')\n",
    "plt.show()"
   ]
  },
  {
   "cell_type": "markdown",
   "metadata": {},
   "source": [
    "### 6. Let us see how a trained agent performs.\n",
    "\n",
    "Let us see how a trained agent scores. Note: You will NOT be able to actually see the environment in this workspace."
   ]
  },
  {
   "cell_type": "code",
   "execution_count": 11,
   "metadata": {},
   "outputs": [
    {
     "name": "stdout",
     "output_type": "stream",
     "text": [
      "Score: 20.0\n",
      "Score: 12.0\n",
      "Score: 0.0\n",
      "Score: 10.0\n",
      "Score: 1.0\n",
      "Score: 0.0\n",
      "Score: 1.0\n",
      "Score: 15.0\n",
      "Score: 3.0\n",
      "Score: 27.0\n",
      "Average Score: 0.0445\n"
     ]
    }
   ],
   "source": [
    "# load the weights from file\n",
    "agent.qnetwork_local.load_state_dict(torch.load('checkpoint.pth'))\n",
    "brain_name = env.brain_names[0]\n",
    "\n",
    "n_episodes=100\n",
    "max_t=100000\n",
    "\n",
    "total_score = 0\n",
    "\n",
    "for i in range(n_episodes):\n",
    "\n",
    "    # Reset the environment. Training mode is off.\n",
    "    env_info = env.reset(train_mode=False)[brain_name]\n",
    "\n",
    "    # Get the current state\n",
    "    state = env_info.vector_observations[0]\n",
    "\n",
    "    score = 0\n",
    "\n",
    "    for t in range(max_t):\n",
    "        # Decide on an action given the current state\n",
    "        action = agent.act(state)\n",
    "\n",
    "        # Send action to the environment\n",
    "        env_info = env.step(action)[brain_name]\n",
    "\n",
    "        # Get the next state\n",
    "        next_state = env_info.vector_observations[0]\n",
    "\n",
    "        # Get the reward\n",
    "        reward = env_info.rewards[0]\n",
    "\n",
    "        # Check if the episode is finished\n",
    "        done = env_info.local_done[0]\n",
    "\n",
    "        # Add the current reward into the score\n",
    "        score += reward\n",
    "\n",
    "        state = next_state\n",
    "\n",
    "        # Exit the loop when the episode is done\n",
    "        if done:\n",
    "            break\n",
    "    total_score += score\n",
    "\n",
    "    print(\"\\rTest run[{}]\\tscore: {}\".format(i, score), end=\"\")\n",
    "\n",
    "print(\"\\rAverage Score: {}\".format(total_score / n_episodes))"
   ]
  },
  {
   "cell_type": "code",
   "execution_count": null,
   "metadata": {},
   "outputs": [],
   "source": []
  }
 ],
 "metadata": {
  "kernelspec": {
   "display_name": "Python 3",
   "language": "python",
   "name": "python3"
  },
  "language_info": {
   "codemirror_mode": {
    "name": "ipython",
    "version": 3
   },
   "file_extension": ".py",
   "mimetype": "text/x-python",
   "name": "python",
   "nbconvert_exporter": "python",
   "pygments_lexer": "ipython3",
   "version": "3.6.3"
  }
 },
 "nbformat": 4,
 "nbformat_minor": 2
}
