{
 "cells": [
  {
   "cell_type": "markdown",
   "metadata": {},
   "source": [
    "# Project Banana Navigation\n",
    "\n",
    "---\n",
    "\n",
    "Follow the instructions below to train an agent for the project.\n",
    "\n",
    "\n",
    "### 1. Start the Environment\n",
    "\n",
    "Run the next code cell to import necessary packages and load the environment."
   ]
  },
  {
   "cell_type": "code",
   "execution_count": 1,
   "metadata": {
    "scrolled": false
   },
   "outputs": [
    {
     "name": "stderr",
     "output_type": "stream",
     "text": [
      "INFO:unityagents:\n",
      "'Academy' started successfully!\n",
      "Unity Academy name: Academy\n",
      "        Number of Brains: 1\n",
      "        Number of External Brains : 1\n",
      "        Lesson number : 0\n",
      "        Reset Parameters :\n",
      "\t\t\n",
      "Unity brain name: BananaBrain\n",
      "        Number of Visual Observations (per agent): 0\n",
      "        Vector Observation space type: continuous\n",
      "        Vector Observation space size (per agent): 37\n",
      "        Number of stacked Vector Observation: 1\n",
      "        Vector Action space type: discrete\n",
      "        Vector Action space size (per agent): 4\n",
      "        Vector Action descriptions: , , , \n"
     ]
    }
   ],
   "source": [
    "import platform\n",
    "from collections import deque\n",
    "import numpy as np\n",
    "import torch\n",
    "import matplotlib.pyplot as plt\n",
    "%matplotlib inline\n",
    "\n",
    "from unityagents import UnityEnvironment\n",
    "from agent import Agent\n",
    "from params import VarParam, DQNParameters\n",
    "\n",
    "# please do not modify the line below\n",
    "env = UnityEnvironment(file_name=\"Banana_Linux/Banana.x86_64\")"
   ]
  },
  {
   "cell_type": "markdown",
   "metadata": {},
   "source": [
    "Environments contain **_brains_** which are responsible for deciding the actions of their associated agents. Here we check for the first brain available, and set it as the default brain we will be controlling from Python."
   ]
  },
  {
   "cell_type": "code",
   "execution_count": 2,
   "metadata": {},
   "outputs": [
    {
     "name": "stdout",
     "output_type": "stream",
     "text": [
      "brain_name : BananaBrain\n",
      "brain      : Unity brain name: BananaBrain\n",
      "        Number of Visual Observations (per agent): 0\n",
      "        Vector Observation space type: continuous\n",
      "        Vector Observation space size (per agent): 37\n",
      "        Number of stacked Vector Observation: 1\n",
      "        Vector Action space type: discrete\n",
      "        Vector Action space size (per agent): 4\n",
      "        Vector Action descriptions: , , , \n"
     ]
    }
   ],
   "source": [
    "# get the default brain\n",
    "brain_name = env.brain_names[0]\n",
    "brain = env.brains[brain_name]\n",
    "print(f'brain_name : {brain_name}')\n",
    "print(f'brain      : {brain}')"
   ]
  },
  {
   "cell_type": "markdown",
   "metadata": {},
   "source": [
    "### 2. Examine the State and Action Spaces\n",
    "\n",
    "Run the code cell below to print some information about the environment."
   ]
  },
  {
   "cell_type": "code",
   "execution_count": 3,
   "metadata": {},
   "outputs": [
    {
     "name": "stdout",
     "output_type": "stream",
     "text": [
      "Number of agents: 1\n",
      "Number of actions: 4\n",
      "States look like: [1.         0.         0.         0.         0.84408134 0.\n",
      " 0.         1.         0.         0.0748472  0.         1.\n",
      " 0.         0.         0.25755    1.         0.         0.\n",
      " 0.         0.74177343 0.         1.         0.         0.\n",
      " 0.25854847 0.         0.         1.         0.         0.09355672\n",
      " 0.         1.         0.         0.         0.31969345 0.\n",
      " 0.        ]\n",
      "States have length: 37\n"
     ]
    }
   ],
   "source": [
    "# reset the environment\n",
    "env_info = env.reset(train_mode=True)[brain_name]\n",
    "\n",
    "# number of agents in the environment\n",
    "print('Number of agents:', len(env_info.agents))\n",
    "\n",
    "# number of actions\n",
    "action_size = brain.vector_action_space_size\n",
    "print('Number of actions:', action_size)\n",
    "\n",
    "# examine the state space \n",
    "state = env_info.vector_observations[0]\n",
    "print('States look like:', state)\n",
    "state_size = len(state)\n",
    "print('States have length:', state_size)"
   ]
  },
  {
   "cell_type": "markdown",
   "metadata": {},
   "source": [
    "### 4. Define agent\n",
    "\n",
    "In the code section below we make use of DQNParameters helper class to define and modify DQN training paramters. This class provides an easy way to manage the various paramters. It has predefined values that we will use as is, but you may certainly modify them to see how they affect the performance of the training.\n",
    "\n",
    "The Agent class defines an agent which in turn makes use of Dueling Double DQN. It also makes use of a prioritized replay buffer."
   ]
  },
  {
   "cell_type": "code",
   "execution_count": 4,
   "metadata": {},
   "outputs": [
    {
     "name": "stdout",
     "output_type": "stream",
     "text": [
      "lr=0.0005, epsilon=1.000, gamma=0.900, beta=0.400, tau=0.001\n"
     ]
    }
   ],
   "source": [
    "params = DQNParameters(state_size=state_size, action_size=action_size)\n",
    "agent = Agent(params)\n",
    "\n",
    "print(params)"
   ]
  },
  {
   "cell_type": "markdown",
   "metadata": {},
   "source": [
    "### 5. Let us train an agent using DQN in the Banana Environment\n",
    "\n",
    "The code cell below will train the agent.\n"
   ]
  },
  {
   "cell_type": "code",
   "execution_count": 6,
   "metadata": {
    "scrolled": true
   },
   "outputs": [
    {
     "name": "stdout",
     "output_type": "stream",
     "text": [
      "Episode 2\tAverage Score: 0.0000\tlr=0.0005, epsilon=0.980, gamma=0.904, beta=0.412, tau=0.001\n",
      "Passing score not achieved :(\n"
     ]
    }
   ],
   "source": [
    "def dqn_train(agent, env, params, n_episodes=2000, max_t=100000):\n",
    "    brain_name = env.brain_names[0]\n",
    "    passing_score_achieved = False  # Achieved when average score for 100 episodes reaches 13\n",
    "    scores = []  # List of scores for an episode\n",
    "    scores_window = deque(maxlen=100)  # Most recent 100 scores\n",
    "\n",
    "    for i_episode in range(1, n_episodes + 1):\n",
    "        # Reset environment\n",
    "        env_info = env.reset(train_mode=True)[brain_name]\n",
    "\n",
    "        # Get next state\n",
    "        state = env_info.vector_observations[0]\n",
    "\n",
    "        score = 0\n",
    "        for t in range(max_t):\n",
    "\n",
    "            action = agent.act(state, params.epsilon()) # Get recommended action from agent for current state\n",
    "\n",
    "            env_info = env.step(action)[brain_name] # Send action to environment\n",
    "\n",
    "            next_state = env_info.vector_observations[0] # Get the next state from the environment\n",
    "\n",
    "            reward = env_info.rewards[0] # Get reward for having taken the action\n",
    "\n",
    "            done = env_info.local_done[0] # Check if the episode is finished\n",
    "\n",
    "            # run agent step - which adds to the experience and also learns\n",
    "            agent.step(state, action, reward, next_state, done)\n",
    "\n",
    "            score += reward\n",
    "            state = next_state\n",
    "\n",
    "            # Exit if episode finished\n",
    "            if done:\n",
    "                break\n",
    "\n",
    "        scores_window.append(score)\n",
    "        scores.append(score)\n",
    "\n",
    "        # update parameters used by the agent.\n",
    "        params.epsilon.decrement()  # reduce randomness for action selection\n",
    "        params.gamma.increment()    # give more priority to future returns\n",
    "        params.tau.increment()      # make larger updates to target DQN\n",
    "        params.beta.increment()     # increase bias for weights from stored experiences\n",
    "\n",
    "        print('\\rEpisode {}\\tAverage Score: {:.4f}\\t{}'.format(i_episode, np.mean(scores_window), params), end=\"\")\n",
    "\n",
    "        if i_episode % scores_window.maxlen == 0:\n",
    "            print('\\rEpisode {}\\tAverage Score: {:.4f}'.format(i_episode, np.mean(scores_window)))\n",
    "        if np.mean(scores_window) > 13 and not passing_score_achieved:\n",
    "            passing_score_achieved = True\n",
    "            print('\\rPassing score achieved in {:d} episodes!\\tAverage Score: {:.4f}'.format(i_episode,\n",
    "                                                                                             np.mean(scores_window)))\n",
    "    if passing_score_achieved:\n",
    "        torch.save(agent.qnetwork_local.state_dict(), 'checkpoint.pth')\n",
    "        print(\"\\r\\nTrained DQN parameters saved in 'checkpoint.pth'.\")\n",
    "    else:\n",
    "        print(\"\\r\\nPassing score not achieved :(\")\n",
    "\n",
    "    return scores\n",
    "\n",
    "# Make a call to test the function\n",
    "# It will quickly loop through the function couple of times\n",
    "scores = dqn_train(agent, env, params, n_episodes=2, max_t=100)"
   ]
  },
  {
   "cell_type": "markdown",
   "metadata": {},
   "source": [
    "Call the function define above in ernerst to start training and save a DQN. This will take some time."
   ]
  },
  {
   "cell_type": "code",
   "execution_count": 7,
   "metadata": {},
   "outputs": [
    {
     "name": "stdout",
     "output_type": "stream",
     "text": [
      "Episode 100\tAverage Score: 0.7900\tlr=0.0005, epsilon=0.598, gamma=0.958, beta=0.644, tau=0.001\n",
      "Episode 200\tAverage Score: 3.7500\tlr=0.0005, epsilon=0.366, gamma=0.978, beta=0.784, tau=0.001\n",
      "Episode 300\tAverage Score: 7.5600\tlr=0.0005, epsilon=0.226, gamma=0.986, beta=0.869, tau=0.001\n",
      "Episode 400\tAverage Score: 10.4500\tlr=0.0005, epsilon=0.141, gamma=0.988, beta=0.921, tau=0.001\n",
      "Episode 500\tAverage Score: 11.1000\tlr=0.0005, epsilon=0.089, gamma=0.989, beta=0.952, tau=0.001\n",
      "Episode 600\tAverage Score: 12.4400\tlr=0.0005, epsilon=0.058, gamma=0.990, beta=0.971, tau=0.002\n",
      "Passing score achieved in 653 episodes!\tAverage Score: 13.0100amma=0.990, beta=0.978, tau=0.002\n",
      "Episode 700\tAverage Score: 13.3400\tlr=0.0005, epsilon=0.039, gamma=0.990, beta=0.982, tau=0.002\n",
      "Episode 800\tAverage Score: 14.5800\tlr=0.0005, epsilon=0.028, gamma=0.990, beta=0.989, tau=0.002\n",
      "Episode 900\tAverage Score: 14.3100\tlr=0.0005, epsilon=0.021, gamma=0.990, beta=0.994, tau=0.002\n",
      "Episode 1000\tAverage Score: 14.8600\tlr=0.0005, epsilon=0.016, gamma=0.990, beta=0.996, tau=0.002\n",
      "Episode 1100\tAverage Score: 15.3000\tlr=0.0005, epsilon=0.014, gamma=0.990, beta=0.998, tau=0.002\n",
      "Episode 1200\tAverage Score: 15.2100\tlr=0.0005, epsilon=0.012, gamma=0.990, beta=0.999, tau=0.002\n",
      "Episode 1300\tAverage Score: 15.4600\tlr=0.0005, epsilon=0.011, gamma=0.990, beta=0.999, tau=0.002\n",
      "Episode 1400\tAverage Score: 15.8100\tlr=0.0005, epsilon=0.011, gamma=0.990, beta=0.999, tau=0.002\n",
      "Episode 1500\tAverage Score: 15.9900\tlr=0.0005, epsilon=0.011, gamma=0.990, beta=1.000, tau=0.002\n",
      "Episode 1600\tAverage Score: 16.2200\tlr=0.0005, epsilon=0.010, gamma=0.990, beta=1.000, tau=0.003\n",
      "Episode 1700\tAverage Score: 15.4300\tlr=0.0005, epsilon=0.010, gamma=0.990, beta=1.000, tau=0.003\n",
      "Episode 1800\tAverage Score: 16.6700\tlr=0.0005, epsilon=0.010, gamma=0.990, beta=1.000, tau=0.003\n",
      "Episode 1900\tAverage Score: 15.4700\tlr=0.0005, epsilon=0.010, gamma=0.990, beta=1.000, tau=0.003\n",
      "Episode 2000\tAverage Score: 14.4900\tlr=0.0005, epsilon=0.010, gamma=0.990, beta=1.000, tau=0.003\n",
      "\n",
      "Trained DQN parameters saved in 'checkpoint.pth'.\n"
     ]
    },
    {
     "data": {
      "image/png": "[encoded data removed]",
      "text/plain": [
       "<Figure size 432x288 with 1 Axes>"
      ]
     },
     "metadata": {
      "needs_background": "light"
     },
     "output_type": "display_data"
    }
   ],
   "source": [
    "scores = dqn_train(agent, env, params, n_episodes=2000, max_t=100000)\n",
    "\n",
    "# plot the scores\n",
    "fig = plt.figure()\n",
    "ax = fig.add_subplot(111)\n",
    "plt.plot(np.arange(len(scores)), scores)\n",
    "plt.ylabel('Score')\n",
    "plt.xlabel('Episode #')\n",
    "plt.show()"
   ]
  },
  {
   "cell_type": "markdown",
   "metadata": {},
   "source": [
    "### 6. Let us see how a trained agent performs.\n",
    "\n",
    "Let us see how a trained agent scores."
   ]
  },
  {
   "cell_type": "code",
   "execution_count": 11,
   "metadata": {},
   "outputs": [],
   "source": [
    "def load_and_run_agent(agent, env, n_episodes):\n",
    "    \"\"\"\n",
    "    agent: the learning agent\n",
    "    checkpoint: the saved weights for the pretrained neural network\n",
    "    n_episodes: the number of episodes to run\n",
    "    \"\"\"\n",
    "\n",
    "    # load the weights from file\n",
    "    agent.qnetwork_local.load_state_dict(torch.load('checkpoint.pth'))\n",
    "    brain_name = env.brain_names[0]\n",
    "\n",
    "    total_score = 0\n",
    "\n",
    "    for i in range(1, n_episodes+1):\n",
    "\n",
    "        # Reset the environment. Training mode is off.\n",
    "        env_info = env.reset(train_mode=True)[brain_name]\n",
    "\n",
    "        # Get the current state\n",
    "        state = env_info.vector_observations[0]\n",
    "\n",
    "        score = 0\n",
    "\n",
    "        print(f'Episode[{i}]', end='')\n",
    "        \n",
    "        while True:\n",
    "            # Decide on an action given the current state\n",
    "            action = agent.act(state)\n",
    "\n",
    "            # Send action to the environment\n",
    "            env_info = env.step(action)[brain_name]\n",
    "\n",
    "            # Get the next state\n",
    "            next_state = env_info.vector_observations[0]\n",
    "\n",
    "            # Get the reward\n",
    "            reward = env_info.rewards[0]\n",
    "\n",
    "            # Check if the episode is finished\n",
    "            done = env_info.local_done[0]\n",
    "\n",
    "            # Add the current reward into the score\n",
    "            score += reward\n",
    "            if reward==1:\n",
    "                print(f'+', end='')\n",
    "            elif reward==-1:\n",
    "                print(f'-', end='')\n",
    "\n",
    "            state = next_state\n",
    "\n",
    "            # Exit the loop when the episode is done\n",
    "            if done:\n",
    "                break\n",
    "            \n",
    "        total_score += score\n",
    "        \n",
    "        print(f' = {score}')\n",
    "\n",
    "    print(f'Average Score: {total_score / n_episodes}')"
   ]
  },
  {
   "cell_type": "code",
   "execution_count": 15,
   "metadata": {},
   "outputs": [
    {
     "name": "stdout",
     "output_type": "stream",
     "text": [
      "Episode[1]-++-+++++++++++++-+++ = 15.0\n",
      "Episode[2]++++-++++++++++++++ = 19.0\n",
      "Episode[3]+++++++++++++++++++++++ = 23.0\n",
      "Episode[4]+++++++++++++++++ = 17.0\n",
      "Episode[5]++++++++++++++++++ = 18.0\n",
      "Episode[6]++++++++++++++++ = 16.0\n",
      "Episode[7]+++++++++++++++++++ = 19.0\n",
      "Episode[8]-+++++++++++++ = 12.0\n",
      "Episode[9]-++++++++++++++++ = 15.0\n",
      "Episode[10]+++++++++++++++++++ = 19.0\n",
      "Episode[11]++++++++++++++++++++++ = 22.0\n",
      "Episode[12]+++++++++++++ = 13.0\n",
      "Episode[13]+++++++++++ = 11.0\n",
      "Episode[14]+++++++++++++++++ = 17.0\n",
      "Episode[15]+++++++++++++++++ = 17.0\n",
      "Episode[16]++++++++++++++++ = 16.0\n",
      "Episode[17]++++++++++++++++++++ = 20.0\n",
      "Episode[18]+++++++++++++++++ = 17.0\n",
      "Episode[19]++-+++++++++++++++++++ = 20.0\n",
      "Episode[20]+++++++++++++++ = 15.0\n",
      "Average Score: 17.05\n"
     ]
    }
   ],
   "source": [
    "load_and_run_agent(agent, env, n_episodes=20)"
   ]
  },
  {
   "cell_type": "code",
   "execution_count": null,
   "metadata": {},
   "outputs": [],
   "source": []
  }
 ],
 "metadata": {
  "kernelspec": {
   "display_name": "Python 3",
   "language": "python",
   "name": "python3"
  },
  "language_info": {
   "codemirror_mode": {
    "name": "ipython",
    "version": 3
   },
   "file_extension": ".py",
   "mimetype": "text/x-python",
   "name": "python",
   "nbconvert_exporter": "python",
   "pygments_lexer": "ipython3",
   "version": "3.6.9"
  }
 },
 "nbformat": 4,
 "nbformat_minor": 2
}
